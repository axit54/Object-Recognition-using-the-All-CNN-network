{
  "nbformat": 4,
  "nbformat_minor": 0,
  "metadata": {
    "anaconda-cloud": {},
    "kernelspec": {
      "display_name": "Python 3",
      "language": "python",
      "name": "python3"
    },
    "language_info": {
      "codemirror_mode": {
        "name": "ipython",
        "version": 3
      },
      "file_extension": ".py",
      "mimetype": "text/x-python",
      "name": "python",
      "nbconvert_exporter": "python",
      "pygments_lexer": "ipython3",
      "version": "3.8.5"
    },
    "colab": {
      "name": "lab_housing_partial.ipynb",
      "provenance": [],
      "collapsed_sections": [],
      "include_colab_link": true
    }
  },
  "cells": [
    {
      "cell_type": "markdown",
      "metadata": {
        "id": "view-in-github",
        "colab_type": "text"
      },
      "source": [
        "<a href=\"https://colab.research.google.com/github/axit54/Object-Recognition-using-the-All-CNN-network/blob/master/lab_housing_partial.ipynb\" target=\"_parent\"><img src=\"https://colab.research.google.com/assets/colab-badge.svg\" alt=\"Open In Colab\"/></a>"
      ]
    },
    {
      "cell_type": "markdown",
      "metadata": {
        "id": "gJn6jYBmtgsd"
      },
      "source": [
        "# Lab:  Simple linear regression\n",
        "\n",
        "You can download this lab from [GitHub](https://github.com/pliugithub/MachineLearning/blob/master/unit02_simp_lin_reg/lab_housing_partial.ipynb).\n",
        "```\n",
        "https://github.com/pliugithub/MachineLearning/blob/master/unit02_simp_lin_reg/lab_housing_partial.ipynb\n",
        "```\n",
        "\n",
        "In this lab, you will load data, plot data, perform simple mathematical manipulations, and fit a simple linear regression model.  Before doing this lab, you can go through the [demo](./demo_auto_mpg.ipynb) to see an example of these operations on an automobile dataset.  The lab use the Boston housing data set, a widely-used machine learning data set for illustrating basic concepts.  "
      ]
    },
    {
      "cell_type": "markdown",
      "metadata": {
        "collapsed": true,
        "id": "UW6MlPdttgse"
      },
      "source": [
        "## Loading the data\n",
        "\n",
        "The Boston housing data set was collected in the 1970s to study the relationship between house price and various factors such as the house size, crime rate, socio-economic status, etc.  Since the variables are easy to understand, the data set is ideal for learning basic concepts in machine learning.  The raw data and a complete description of the dataset can be found on the UCI website:\n",
        "\n",
        "https://archive.ics.uci.edu/ml/machine-learning-databases/housing/housing.names\n",
        "\n",
        "In the lab, you will complete all the code marked `TODO`. \n",
        "\n",
        "First, complete the following code that uses the `pd.read_csv` command to read the data from the file located at\n",
        "\n",
        "https://archive.ics.uci.edu/ml/machine-learning-databases/housing/housing.data\n",
        "\n",
        "I have supplied a list `names` of the column headers.  You will have to set the options in the `read_csv` command to correctly delimit the data in the file and name the columns correctly."
      ]
    },
    {
      "cell_type": "code",
      "metadata": {
        "collapsed": true,
        "id": "0Y55WC2jtgsf"
      },
      "source": [
        "import pandas as pd\n",
        "import numpy as np\n",
        "names =[\n",
        "    'CRIM', 'ZN', 'INDUS', 'CHAS', 'NOX', 'RM', \n",
        "    'AGE',  'DIS', 'RAD', 'TAX', 'PTRATIO', 'B', 'LSTAT', 'PRICE'\n",
        "]\n",
        "\n",
        "df = pd.read_csv('https://archive.ics.uci.edu/ml/machine-learning-databases/housing/housing.data', header=None,delim_whitespace=True,names=names,na_values='?')"
      ],
      "execution_count": 1,
      "outputs": []
    },
    {
      "cell_type": "markdown",
      "metadata": {
        "id": "YO08QCuctgsf"
      },
      "source": [
        "Display the first six rows of the data frame"
      ]
    },
    {
      "cell_type": "code",
      "metadata": {
        "collapsed": true,
        "colab": {
          "base_uri": "https://localhost:8080/",
          "height": 235
        },
        "id": "PhKSnqeytgsg",
        "outputId": "9422f94a-1450-4ff4-fed7-dbf889cf7583"
      },
      "source": [
        "df.head(6)\n",
        "# TODO 2: Display the first six rows of the data frame"
      ],
      "execution_count": 2,
      "outputs": [
        {
          "output_type": "execute_result",
          "data": {
            "text/html": [
              "<div>\n",
              "<style scoped>\n",
              "    .dataframe tbody tr th:only-of-type {\n",
              "        vertical-align: middle;\n",
              "    }\n",
              "\n",
              "    .dataframe tbody tr th {\n",
              "        vertical-align: top;\n",
              "    }\n",
              "\n",
              "    .dataframe thead th {\n",
              "        text-align: right;\n",
              "    }\n",
              "</style>\n",
              "<table border=\"1\" class=\"dataframe\">\n",
              "  <thead>\n",
              "    <tr style=\"text-align: right;\">\n",
              "      <th></th>\n",
              "      <th>CRIM</th>\n",
              "      <th>ZN</th>\n",
              "      <th>INDUS</th>\n",
              "      <th>CHAS</th>\n",
              "      <th>NOX</th>\n",
              "      <th>RM</th>\n",
              "      <th>AGE</th>\n",
              "      <th>DIS</th>\n",
              "      <th>RAD</th>\n",
              "      <th>TAX</th>\n",
              "      <th>PTRATIO</th>\n",
              "      <th>B</th>\n",
              "      <th>LSTAT</th>\n",
              "      <th>PRICE</th>\n",
              "    </tr>\n",
              "  </thead>\n",
              "  <tbody>\n",
              "    <tr>\n",
              "      <th>0</th>\n",
              "      <td>0.00632</td>\n",
              "      <td>18.0</td>\n",
              "      <td>2.31</td>\n",
              "      <td>0</td>\n",
              "      <td>0.538</td>\n",
              "      <td>6.575</td>\n",
              "      <td>65.2</td>\n",
              "      <td>4.0900</td>\n",
              "      <td>1</td>\n",
              "      <td>296.0</td>\n",
              "      <td>15.3</td>\n",
              "      <td>396.90</td>\n",
              "      <td>4.98</td>\n",
              "      <td>24.0</td>\n",
              "    </tr>\n",
              "    <tr>\n",
              "      <th>1</th>\n",
              "      <td>0.02731</td>\n",
              "      <td>0.0</td>\n",
              "      <td>7.07</td>\n",
              "      <td>0</td>\n",
              "      <td>0.469</td>\n",
              "      <td>6.421</td>\n",
              "      <td>78.9</td>\n",
              "      <td>4.9671</td>\n",
              "      <td>2</td>\n",
              "      <td>242.0</td>\n",
              "      <td>17.8</td>\n",
              "      <td>396.90</td>\n",
              "      <td>9.14</td>\n",
              "      <td>21.6</td>\n",
              "    </tr>\n",
              "    <tr>\n",
              "      <th>2</th>\n",
              "      <td>0.02729</td>\n",
              "      <td>0.0</td>\n",
              "      <td>7.07</td>\n",
              "      <td>0</td>\n",
              "      <td>0.469</td>\n",
              "      <td>7.185</td>\n",
              "      <td>61.1</td>\n",
              "      <td>4.9671</td>\n",
              "      <td>2</td>\n",
              "      <td>242.0</td>\n",
              "      <td>17.8</td>\n",
              "      <td>392.83</td>\n",
              "      <td>4.03</td>\n",
              "      <td>34.7</td>\n",
              "    </tr>\n",
              "    <tr>\n",
              "      <th>3</th>\n",
              "      <td>0.03237</td>\n",
              "      <td>0.0</td>\n",
              "      <td>2.18</td>\n",
              "      <td>0</td>\n",
              "      <td>0.458</td>\n",
              "      <td>6.998</td>\n",
              "      <td>45.8</td>\n",
              "      <td>6.0622</td>\n",
              "      <td>3</td>\n",
              "      <td>222.0</td>\n",
              "      <td>18.7</td>\n",
              "      <td>394.63</td>\n",
              "      <td>2.94</td>\n",
              "      <td>33.4</td>\n",
              "    </tr>\n",
              "    <tr>\n",
              "      <th>4</th>\n",
              "      <td>0.06905</td>\n",
              "      <td>0.0</td>\n",
              "      <td>2.18</td>\n",
              "      <td>0</td>\n",
              "      <td>0.458</td>\n",
              "      <td>7.147</td>\n",
              "      <td>54.2</td>\n",
              "      <td>6.0622</td>\n",
              "      <td>3</td>\n",
              "      <td>222.0</td>\n",
              "      <td>18.7</td>\n",
              "      <td>396.90</td>\n",
              "      <td>5.33</td>\n",
              "      <td>36.2</td>\n",
              "    </tr>\n",
              "    <tr>\n",
              "      <th>5</th>\n",
              "      <td>0.02985</td>\n",
              "      <td>0.0</td>\n",
              "      <td>2.18</td>\n",
              "      <td>0</td>\n",
              "      <td>0.458</td>\n",
              "      <td>6.430</td>\n",
              "      <td>58.7</td>\n",
              "      <td>6.0622</td>\n",
              "      <td>3</td>\n",
              "      <td>222.0</td>\n",
              "      <td>18.7</td>\n",
              "      <td>394.12</td>\n",
              "      <td>5.21</td>\n",
              "      <td>28.7</td>\n",
              "    </tr>\n",
              "  </tbody>\n",
              "</table>\n",
              "</div>"
            ],
            "text/plain": [
              "      CRIM    ZN  INDUS  CHAS    NOX  ...    TAX  PTRATIO       B  LSTAT  PRICE\n",
              "0  0.00632  18.0   2.31     0  0.538  ...  296.0     15.3  396.90   4.98   24.0\n",
              "1  0.02731   0.0   7.07     0  0.469  ...  242.0     17.8  396.90   9.14   21.6\n",
              "2  0.02729   0.0   7.07     0  0.469  ...  242.0     17.8  392.83   4.03   34.7\n",
              "3  0.03237   0.0   2.18     0  0.458  ...  222.0     18.7  394.63   2.94   33.4\n",
              "4  0.06905   0.0   2.18     0  0.458  ...  222.0     18.7  396.90   5.33   36.2\n",
              "5  0.02985   0.0   2.18     0  0.458  ...  222.0     18.7  394.12   5.21   28.7\n",
              "\n",
              "[6 rows x 14 columns]"
            ]
          },
          "metadata": {},
          "execution_count": 2
        }
      ]
    },
    {
      "cell_type": "markdown",
      "metadata": {
        "id": "_bWdGtmMtgsg"
      },
      "source": [
        "## Basic Manipulations on the Data\n",
        "\n",
        "What is the shape of the data?  How many attributes are there?  How many samples?\n",
        "Print a statement of the form:\n",
        "\n",
        "    num samples=xxx, num attributes=yy"
      ]
    },
    {
      "cell_type": "code",
      "metadata": {
        "collapsed": true,
        "colab": {
          "base_uri": "https://localhost:8080/"
        },
        "id": "IMVK8oZRtgsg",
        "outputId": "fc79c831-0e8c-4b98-9e74-6623acb8e658"
      },
      "source": [
        "print('num samples=%d, num attributes=%d' %(df.shape[0], df.shape[1]))"
      ],
      "execution_count": 3,
      "outputs": [
        {
          "output_type": "stream",
          "name": "stdout",
          "text": [
            "num samples=506, num attributes=14\n"
          ]
        }
      ]
    },
    {
      "cell_type": "markdown",
      "metadata": {
        "id": "vni6oK_Xtgsh"
      },
      "source": [
        "Create a response vector `y` with the values in the column `PRICE`.  The vector `y` should be a 1D `numpy.array` structure."
      ]
    },
    {
      "cell_type": "code",
      "metadata": {
        "collapsed": true,
        "id": "lC1taTkFtgsh"
      },
      "source": [
        "# TODO 4: Create a response vector y with the values in the column PRICE\n",
        "y = np.array(df['PRICE'])"
      ],
      "execution_count": 4,
      "outputs": []
    },
    {
      "cell_type": "markdown",
      "metadata": {
        "id": "oWdrWhYPtgsh"
      },
      "source": [
        "Use the response vector `y` to find the mean house price in thousands and the fraction of homes that are above $40k. (You may realize this is very cheap.  Prices have gone up a lot since the 1970s!).   Create print statements of the form:\n",
        "\n",
        "    The mean house price is xx.yy thousands of dollars.\n",
        "    Only x.y percent are above $40k."
      ]
    },
    {
      "cell_type": "code",
      "metadata": {
        "collapsed": true,
        "colab": {
          "base_uri": "https://localhost:8080/"
        },
        "id": "bWHPLEAhtgsi",
        "outputId": "09c6b6ae-b3b5-4294-f48d-171164eb7b7f"
      },
      "source": [
        "# TODO 5: Use the response vector y to find the mean house price in thousands and the fraction of homes that are above $40k.\n",
        "print(\"The mean house price is %2.2f thousands of dollars.\" %(np.mean(y)))\n",
        "print(\"Only %1.1f percent are above $40k.\" %(100*np.mean(y>40)))"
      ],
      "execution_count": 5,
      "outputs": [
        {
          "output_type": "stream",
          "name": "stdout",
          "text": [
            "The mean house price is 22.53 thousands of dollars.\n",
            "Only 6.1 percent are above $40k.\n"
          ]
        }
      ]
    },
    {
      "cell_type": "markdown",
      "metadata": {
        "id": "EiGgBfIetgsi"
      },
      "source": [
        "## Visualizing the Data\n",
        "\n",
        "Python's `matplotlib` has very good routines for plotting and visualizing data that closely follows the format of MATLAB programs.  You can load the `matplotlib` package with the following commands."
      ]
    },
    {
      "cell_type": "code",
      "metadata": {
        "collapsed": true,
        "id": "yHZPFckktgsi"
      },
      "source": [
        "import matplotlib\n",
        "import matplotlib.pyplot as plt\n",
        "%matplotlib inline"
      ],
      "execution_count": 6,
      "outputs": []
    },
    {
      "cell_type": "markdown",
      "metadata": {
        "id": "km4JHaJhtgsi"
      },
      "source": [
        "Similar to the `y` vector, create a predictor vector `x` containing the values in the `RM` column, which represents the average number of rooms in each region."
      ]
    },
    {
      "cell_type": "code",
      "metadata": {
        "collapsed": true,
        "id": "lIAyidhrtgsi"
      },
      "source": [
        "# TODO 6: create a predictor vector x containing the values in the RM column\n",
        "x = np.array(df['RM'])"
      ],
      "execution_count": 7,
      "outputs": []
    },
    {
      "cell_type": "markdown",
      "metadata": {
        "id": "_ngRqkUatgsj"
      },
      "source": [
        "Create a scatter plot of the price vs. the `RM` attribute.  Make sure your plot has grid lines and label the axes with reasonable labels so that someone else can understand the plot."
      ]
    },
    {
      "cell_type": "code",
      "metadata": {
        "collapsed": true,
        "colab": {
          "base_uri": "https://localhost:8080/",
          "height": 279
        },
        "id": "tIVtm4Qrtgsj",
        "outputId": "049871dc-122b-4456-ed6c-281addd3bcf4"
      },
      "source": [
        "# TODO 7: Create a scatter plot of the price vs. the RM attribute. Make sure your plot has grid lines and label the axes with reasonable labels\n",
        "plt.plot(x,y,'o')\n",
        "plt.xlabel('Average number of rooms per dwelling')\n",
        "plt.ylabel('House Prices')\n",
        "plt.grid(True)"
      ],
      "execution_count": 8,
      "outputs": [
        {
          "output_type": "display_data",
          "data": {
            "image/png": "[encoded data removed]",
            "text/plain": [
              "<Figure size 432x288 with 1 Axes>"
            ]
          },
          "metadata": {
            "needs_background": "light"
          }
        }
      ]
    },
    {
      "cell_type": "markdown",
      "metadata": {
        "id": "6nHsjFkNtgsj"
      },
      "source": [
        "## Fitting a Simple Linear Model\n",
        "\n",
        "We will write a simple function to perform a linear fit. Use the formulae given in the class, to compute the parameters $\\beta_0,\\beta_1$ in the linear model $$y =\\beta_0 + \\beta_1 x + \\epsilon$$ as well as the coefficient of determination $R^2$."
      ]
    },
    {
      "cell_type": "code",
      "metadata": {
        "collapsed": true,
        "id": "oqenf3wHtgsj"
      },
      "source": [
        "def fit_linear(x,y):\n",
        "    \"\"\"\n",
        "    Given vectors of data points (x,y), performs a fit for the linear model:\n",
        "       yhat = beta0 + beta1*x, \n",
        "    The function returns beta0, beta1 and rsq, where rsq is the coefficient of determination.\n",
        "    \"\"\"\n",
        "    # TODO 8: complete the following code\n",
        "    xm = np.mean(x)\n",
        "    ym = np.mean(y)\n",
        "    sxy = np.mean((y-ym)*(x-xm))\n",
        "    sxx = np.mean((x-xm)**2)\n",
        "    syy = np.mean((y-ym)**2)\n",
        "    beta1 = sxy/sxx\n",
        "    beta0 = ym - beta1*xm\n",
        "    rxy = sxy/np.sqrt(sxx)/np.sqrt(syy)\n",
        "    rsq = rxy*rxy\n",
        "    return beta0, beta1, rsq"
      ],
      "execution_count": 9,
      "outputs": []
    },
    {
      "cell_type": "markdown",
      "metadata": {
        "id": "bPeHz-Qjtgsj"
      },
      "source": [
        "Using the function `fit_linear` above, print the values `beta0`, `beta1` and `rsq` for the linear model of price vs. number of rooms."
      ]
    },
    {
      "cell_type": "code",
      "metadata": {
        "collapsed": true,
        "colab": {
          "base_uri": "https://localhost:8080/"
        },
        "id": "ZDFus5-Ttgsj",
        "outputId": "71df9a03-e640-4705-b77b-3fd21d98d7d1"
      },
      "source": [
        "# TODO 9: print the values beta0, beta1 and rsq for the linear model of price vs. number of rooms.\n",
        "beta0, beta1, rsq = fit_linear(x, y)\n",
        "\n",
        "print(\"beta0=\", beta0)\n",
        "print(\"beta1=\", beta1)\n",
        "print(\"rsq=\", rsq)"
      ],
      "execution_count": 10,
      "outputs": [
        {
          "output_type": "stream",
          "name": "stdout",
          "text": [
            "beta0= -34.67062077643857\n",
            "beta1= 9.10210898118031\n",
            "rsq= 0.483525455991334\n"
          ]
        }
      ]
    },
    {
      "cell_type": "markdown",
      "metadata": {
        "id": "6oB3274Ctgsk"
      },
      "source": [
        "Replot the scatter plot above, but now with the regression line.  You can create the regression line by creating points `xp` from say 4 to 9, computing the linear predicted values `yp` on those points and plotting `yp` vs. `xp` on top of the above plot."
      ]
    },
    {
      "cell_type": "code",
      "metadata": {
        "collapsed": true,
        "colab": {
          "base_uri": "https://localhost:8080/",
          "height": 279
        },
        "id": "dtrx3tRItgsk",
        "outputId": "2c4b4004-b8ed-4402-8c33-11993e8ad734"
      },
      "source": [
        "# TODO 10: Replot the scatter plot above, but now with the regression line.\n",
        "xplt = x          \n",
        "yplt = beta1*xplt + beta0\n",
        "\n",
        "plt.plot(x,y,'o')                    \n",
        "plt.plot(xplt,yplt,'-',linewidth=3)  # Plot the regression line\n",
        "plt.xlabel('Average number of rooms per dwelling')\n",
        "plt.ylabel('House Prices')\n",
        "plt.grid(True)"
      ],
      "execution_count": 11,
      "outputs": [
        {
          "output_type": "display_data",
          "data": {
            "image/png": "[encoded data removed]",
            "text/plain": [
              "<Figure size 432x288 with 1 Axes>"
            ]
          },
          "metadata": {
            "needs_background": "light"
          }
        }
      ]
    },
    {
      "cell_type": "markdown",
      "metadata": {
        "id": "Re5-3y7-tgsk"
      },
      "source": [
        "# Compute coefficients of determination\n",
        "\n",
        "We next compute the $R^2$ values for all the predictors and output the values in a table. Your table should look like the following, where each the first column is the attribute name and the second column is the $R^2$ value.\n",
        "\n",
        "    CRIM        0.151\n",
        "    ZN          0.130\n",
        "    INDUS       0.234\n",
        "    ...         ...\n",
        "\n",
        "To index over the set of colunms in the dataframe `df`, you can either loop over the items in the `names` lists (skipping over the final name `PRICE`) or loop over integer indices and use the method, `df.iloc`."
      ]
    },
    {
      "cell_type": "code",
      "metadata": {
        "collapsed": true,
        "colab": {
          "base_uri": "https://localhost:8080/"
        },
        "id": "HmgcrtRGtgsk",
        "outputId": "e0c9820b-e5d5-4faf-ab21-08092fc30b4c"
      },
      "source": [
        "# TODO 11:  compute the 𝑅^2 values for all the predictors and output the values in a table.\n",
        "from tabulate import tabulate\n",
        "\n",
        "def Coef_of_Det(x, y): \n",
        "    xm = np.mean(x)\n",
        "    ym = np.mean(y)\n",
        "    sxy = np.mean((y-ym)*(x-xm))\n",
        "    sxx = np.mean((x-xm)**2)\n",
        "    syy = np.mean((y-ym)**2)\n",
        "    rxy = sxy/np.sqrt(sxx)/np.sqrt(syy) # Correlation Coefficient\n",
        "    rsq = rxy*rxy\n",
        "    Rsq = rsq # Coefficient of Determination\n",
        "    return Rsq\n",
        "\n",
        "table_data = []\n",
        "for name in names:\n",
        "    if name!='PRICE':\n",
        "        x = np.array(df[name])\n",
        "        y = np.array(df['PRICE'])\n",
        "        Rsq = Coef_of_Det(x, y)\n",
        "        table_data.append([name, round(Rsq,3)])\n",
        "       \n",
        "print(tabulate(table_data))"
      ],
      "execution_count": 12,
      "outputs": [
        {
          "output_type": "stream",
          "name": "stdout",
          "text": [
            "-------  -----\n",
            "CRIM     0.151\n",
            "ZN       0.13\n",
            "INDUS    0.234\n",
            "CHAS     0.031\n",
            "NOX      0.183\n",
            "RM       0.484\n",
            "AGE      0.142\n",
            "DIS      0.062\n",
            "RAD      0.146\n",
            "TAX      0.22\n",
            "PTRATIO  0.258\n",
            "B        0.111\n",
            "LSTAT    0.544\n",
            "-------  -----\n"
          ]
        }
      ]
    }
  ]
}